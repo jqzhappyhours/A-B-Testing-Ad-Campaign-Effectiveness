{
 "cells": [
  {
   "cell_type": "markdown",
   "metadata": {},
   "source": [
    "# Project Background\n",
    "\n",
    "Marketing companies want to run successful campaigns, but the market is complex and several options can work. So normally they tun A/B tests, that is a randomized experimentation process where two or more versions of a variable (web page, page element, banner, etc.) are shown to different segments of people at the same time to determine which version leaves the maximum impact and drive business metrics. \n",
    "\n",
    "In this project, we are helping a company to measure the effectiveness of its ad campaign. \n",
    "The business metric in our case is conversion rate which is the ratio of the number of purchases to the total number of ad displays ."
   ]
  },
  {
   "cell_type": "markdown",
   "metadata": {},
   "source": [
    "# A/B Testing Process\n",
    "\n",
    "We follow the guidance of this Kaggle notebook (https://www.kaggle.com/code/ekrembayar/a-b-testing-step-by-step-hypothesis-testing) to conduct our A/B testing.\n",
    "\n",
    "1) Understanding business problem & data\n",
    "\n",
    "2) Detect and resolve problems in the data (Missing Value, Outliers, Unexpected Value)\n",
    "\n",
    "3) Look summary stats and plots\n",
    "\n",
    "4) Apply hypothesis testing and check assumptions\n",
    "\n",
    "5) Check Normality & Homogeneity\n",
    "\n",
    "6) Apply tests ( T-Test)\n",
    "\n",
    "7) Evaluate the results\n",
    "\n",
    "8) Make inferences\n",
    "\n",
    "9) Recommend business decision to your customer/director/ceo etc."
   ]
  },
  {
   "cell_type": "markdown",
   "metadata": {},
   "source": [
    "# 1) Business Problem & Experiment Design\n",
    "\n",
    "We defined our business problems as:\n",
    "\n",
    "1) Did the campaign have a positive impact on user's conversion? \n",
    "\n",
    "2) Would users be more likely to convert if more ads are displayed to them? \n",
    "\n",
    "We randomly assigned our users to the treatment group where the users will be exposed to ads and control group where the users will instead see a Public Service Announcement (or nothing). The majority of the people will be exposed to ads. And a small portion of people (the control group) would instead see a Public Service Announcement (or nothing) in the exact size and place the ad would normally be."
   ]
  },
  {
   "cell_type": "markdown",
   "metadata": {},
   "source": [
    "# 2) Data Description"
   ]
  },
  {
   "cell_type": "markdown",
   "metadata": {},
   "source": [
    "Our dataset is from https://www.kaggle.com/datasets/faviovaz/marketing-ab-testing, which has 588,101 records and 7 columns. The variables are: \n",
    "\n",
    "- user id: User ID (unique)\n",
    "- test group: If \"ad\" the person saw the advertisement, if \"psa\" they only saw the public service announcement\n",
    "- converted: If a person bought the product then True, else is False\n",
    "- total ads: Amount of ads seen by person\n",
    "- most ads day: Day that the person saw the biggest amount of ads\n",
    "- most ads hour: Hour of day that the person saw the biggest amount of ads"
   ]
  },
  {
   "cell_type": "code",
   "execution_count": 18,
   "metadata": {},
   "outputs": [],
   "source": [
    "import pandas as pd\n",
    "import io\n",
    "import numpy as np"
   ]
  },
  {
   "cell_type": "code",
   "execution_count": 19,
   "metadata": {},
   "outputs": [],
   "source": [
    "# Build load function to load the data and print data description\n",
    "def load(path, info = True):\n",
    "    read = pd.read_csv(path)\n",
    "    \n",
    "    if info:\n",
    "        if len(read) > 0:\n",
    "            print(\"# Data imported!\")\n",
    "            print(\"# ------------------------------------\", \"\\n\")\n",
    "        \n",
    "            print(\"# DIMENSIONS -------------------------\")\n",
    "            print(\"Observation:\", read.shape[0], \"Column:\", read.shape[1], \"\\n\")\n",
    "    \n",
    "            print(\"# DTYPES -----------------------------\")\n",
    "            if len(read.select_dtypes(\"object\").columns) > 0:\n",
    "                print(\"Object Variables:\", \"\\n\", \"# of Variables:\", \n",
    "                      len(read.select_dtypes(\"object\").columns), \"\\n\", \n",
    "                      read.select_dtypes(\"object\").columns.tolist(), \"\\n\")\n",
    "            if len(read.select_dtypes(\"integer\").columns) > 0:\n",
    "                print(\"Integer Variables:\", \"\\n\", \"# of Variables:\", \n",
    "                      len(read.select_dtypes(\"integer\").columns), \"\\n\", \n",
    "                      read.select_dtypes(\"integer\").columns.tolist(), \"\\n\")\n",
    "            if len(read.select_dtypes(\"bool\").columns) > 0:\n",
    "                print(\"Bool Variables:\", \"\\n\", \"# of Variables:\", \n",
    "                      len(read.select_dtypes(\"bool\").columns), \"\\n\", \n",
    "                      read.select_dtypes(\"bool\").columns.tolist(), \"\\n\")\n",
    "            print(\"# MISSING VALUE ---------------------\")\n",
    "            print(\"Are there any missing values? \\n \", np.where(read.isnull().values.any() == False, \n",
    "                                                                \"No missing value!\", \"Data includes missing value!\"), \"\\n\")\n",
    "            buf = io.StringIO()\n",
    "            read.info(buf=buf)\n",
    "            info = buf.getvalue().split('\\n')[-2].split(\":\")[1].strip()\n",
    "            print(\"# MEMORY USAGE ---------------------- \\n\", info)\n",
    "          \n",
    "        else:\n",
    "            print(\"# Data did not import!\")\n",
    "    return read\n",
    "\n",
    "    "
   ]
  },
  {
   "cell_type": "code",
   "execution_count": 30,
   "metadata": {},
   "outputs": [
    {
     "name": "stdout",
     "output_type": "stream",
     "text": [
      "# Data imported!\n",
      "# ------------------------------------ \n",
      "\n",
      "# DIMENSIONS -------------------------\n",
      "Observation: 588101 Column: 7 \n",
      "\n",
      "# DTYPES -----------------------------\n",
      "Object Variables: \n",
      " # of Variables: 2 \n",
      " ['test group', 'most ads day'] \n",
      "\n",
      "Integer Variables: \n",
      " # of Variables: 4 \n",
      " ['Unnamed: 0', 'user id', 'total ads', 'most ads hour'] \n",
      "\n",
      "Bool Variables: \n",
      " # of Variables: 1 \n",
      " ['converted'] \n",
      "\n",
      "# MISSING VALUE ---------------------\n",
      "Are there any missing values? \n",
      "  No missing value! \n",
      "\n",
      "# MEMORY USAGE ---------------------- \n",
      " 27.5+ MB\n"
     ]
    },
    {
     "data": {
      "text/html": [
       "<div>\n",
       "<style scoped>\n",
       "    .dataframe tbody tr th:only-of-type {\n",
       "        vertical-align: middle;\n",
       "    }\n",
       "\n",
       "    .dataframe tbody tr th {\n",
       "        vertical-align: top;\n",
       "    }\n",
       "\n",
       "    .dataframe thead th {\n",
       "        text-align: right;\n",
       "    }\n",
       "</style>\n",
       "<table border=\"1\" class=\"dataframe\">\n",
       "  <thead>\n",
       "    <tr style=\"text-align: right;\">\n",
       "      <th></th>\n",
       "      <th>Unnamed: 0</th>\n",
       "      <th>user id</th>\n",
       "      <th>test group</th>\n",
       "      <th>converted</th>\n",
       "      <th>total ads</th>\n",
       "      <th>most ads day</th>\n",
       "      <th>most ads hour</th>\n",
       "    </tr>\n",
       "  </thead>\n",
       "  <tbody>\n",
       "    <tr>\n",
       "      <th>0</th>\n",
       "      <td>0</td>\n",
       "      <td>1069124</td>\n",
       "      <td>ad</td>\n",
       "      <td>False</td>\n",
       "      <td>130</td>\n",
       "      <td>Monday</td>\n",
       "      <td>20</td>\n",
       "    </tr>\n",
       "    <tr>\n",
       "      <th>1</th>\n",
       "      <td>1</td>\n",
       "      <td>1119715</td>\n",
       "      <td>ad</td>\n",
       "      <td>False</td>\n",
       "      <td>93</td>\n",
       "      <td>Tuesday</td>\n",
       "      <td>22</td>\n",
       "    </tr>\n",
       "    <tr>\n",
       "      <th>2</th>\n",
       "      <td>2</td>\n",
       "      <td>1144181</td>\n",
       "      <td>ad</td>\n",
       "      <td>False</td>\n",
       "      <td>21</td>\n",
       "      <td>Tuesday</td>\n",
       "      <td>18</td>\n",
       "    </tr>\n",
       "    <tr>\n",
       "      <th>3</th>\n",
       "      <td>3</td>\n",
       "      <td>1435133</td>\n",
       "      <td>ad</td>\n",
       "      <td>False</td>\n",
       "      <td>355</td>\n",
       "      <td>Tuesday</td>\n",
       "      <td>10</td>\n",
       "    </tr>\n",
       "    <tr>\n",
       "      <th>4</th>\n",
       "      <td>4</td>\n",
       "      <td>1015700</td>\n",
       "      <td>ad</td>\n",
       "      <td>False</td>\n",
       "      <td>276</td>\n",
       "      <td>Friday</td>\n",
       "      <td>14</td>\n",
       "    </tr>\n",
       "  </tbody>\n",
       "</table>\n",
       "</div>"
      ],
      "text/plain": [
       "   Unnamed: 0  user id test group  converted  total ads most ads day  \\\n",
       "0           0  1069124         ad      False        130       Monday   \n",
       "1           1  1119715         ad      False         93      Tuesday   \n",
       "2           2  1144181         ad      False         21      Tuesday   \n",
       "3           3  1435133         ad      False        355      Tuesday   \n",
       "4           4  1015700         ad      False        276       Friday   \n",
       "\n",
       "   most ads hour  \n",
       "0             20  \n",
       "1             22  \n",
       "2             18  \n",
       "3             10  \n",
       "4             14  "
      ]
     },
     "execution_count": 30,
     "metadata": {},
     "output_type": "execute_result"
    }
   ],
   "source": [
    "ab = load(\"marketing_AB.csv\", info = True)\n",
    "ab.head()"
   ]
  },
  {
   "cell_type": "markdown",
   "metadata": {},
   "source": [
    "Insights:\n",
    "- We have 3 categorical variables: test group, converted and most ads day, and 2 numeric variables: total ads and most ads hour.\n",
    "- There is no missing values.\n",
    "- There are 588,101 observations in our dataset."
   ]
  },
  {
   "cell_type": "markdown",
   "metadata": {},
   "source": [
    "# 3) Summary Statistics"
   ]
  },
  {
   "cell_type": "code",
   "execution_count": 4,
   "metadata": {},
   "outputs": [
    {
     "name": "stdout",
     "output_type": "stream",
     "text": [
      "True\n"
     ]
    }
   ],
   "source": [
    "# Check if the user id is unique\n",
    "print(ab['user id'].nunique() == ab.shape[0])"
   ]
  },
  {
   "cell_type": "code",
   "execution_count": 5,
   "metadata": {},
   "outputs": [
    {
     "data": {
      "text/html": [
       "<div>\n",
       "<style scoped>\n",
       "    .dataframe tbody tr th:only-of-type {\n",
       "        vertical-align: middle;\n",
       "    }\n",
       "\n",
       "    .dataframe tbody tr th {\n",
       "        vertical-align: top;\n",
       "    }\n",
       "\n",
       "    .dataframe thead th {\n",
       "        text-align: right;\n",
       "    }\n",
       "</style>\n",
       "<table border=\"1\" class=\"dataframe\">\n",
       "  <thead>\n",
       "    <tr style=\"text-align: right;\">\n",
       "      <th></th>\n",
       "      <th>count</th>\n",
       "      <th>mean</th>\n",
       "      <th>std</th>\n",
       "      <th>min</th>\n",
       "      <th>1%</th>\n",
       "      <th>5%</th>\n",
       "      <th>10%</th>\n",
       "      <th>20%</th>\n",
       "      <th>50%</th>\n",
       "      <th>80%</th>\n",
       "      <th>90%</th>\n",
       "      <th>95%</th>\n",
       "      <th>99%</th>\n",
       "      <th>max</th>\n",
       "    </tr>\n",
       "  </thead>\n",
       "  <tbody>\n",
       "    <tr>\n",
       "      <th>total ads</th>\n",
       "      <td>588101.0</td>\n",
       "      <td>24.820876</td>\n",
       "      <td>43.715181</td>\n",
       "      <td>1.0</td>\n",
       "      <td>1.0</td>\n",
       "      <td>1.0</td>\n",
       "      <td>2.0</td>\n",
       "      <td>3.0</td>\n",
       "      <td>13.0</td>\n",
       "      <td>33.0</td>\n",
       "      <td>57.0</td>\n",
       "      <td>88.0</td>\n",
       "      <td>202.0</td>\n",
       "      <td>2065.0</td>\n",
       "    </tr>\n",
       "  </tbody>\n",
       "</table>\n",
       "</div>"
      ],
      "text/plain": [
       "              count       mean        std  min   1%   5%  10%  20%   50%  \\\n",
       "total ads  588101.0  24.820876  43.715181  1.0  1.0  1.0  2.0  3.0  13.0   \n",
       "\n",
       "            80%   90%   95%    99%     max  \n",
       "total ads  33.0  57.0  88.0  202.0  2065.0  "
      ]
     },
     "execution_count": 5,
     "metadata": {},
     "output_type": "execute_result"
    }
   ],
   "source": [
    "# Summary Stats: total ads\n",
    "ab.describe([0.01, 0.05, 0.10, 0.20, 0.80, 0.90, 0.95, 0.99])[[\"total ads\"]].T\n"
   ]
  },
  {
   "cell_type": "code",
   "execution_count": 69,
   "metadata": {},
   "outputs": [
    {
     "data": {
      "image/png": "[encoded data removed]",
      "text/plain": [
       "<Figure size 432x288 with 1 Axes>"
      ]
     },
     "metadata": {
      "needs_background": "light"
     },
     "output_type": "display_data"
    }
   ],
   "source": [
    "# Distribution of Total Ads\n",
    "import matplotlib.pyplot as plt\n",
    "ab['total ads'].plot.hist( rwidth=0.9,color='steelblue',bins= 100)\n",
    "plt.title('Distribution of Total Ads')\n",
    "plt.xlabel('Total Ads')\n",
    "plt.ylabel('Count')\n",
    "plt.xlim([0, 300])\n",
    "plt.grid(axis='y', alpha=0.75)"
   ]
  },
  {
   "cell_type": "markdown",
   "metadata": {},
   "source": [
    "Insights:\n",
    "\n",
    "- Total Ads is right skewed\n",
    "- Most users were shown 0 - 50 ads\n",
    "- The maximum total ads is 2065. It is an outlier."
   ]
  },
  {
   "cell_type": "code",
   "execution_count": 7,
   "metadata": {},
   "outputs": [
    {
     "data": {
      "text/html": [
       "<div>\n",
       "<style scoped>\n",
       "    .dataframe tbody tr th:only-of-type {\n",
       "        vertical-align: middle;\n",
       "    }\n",
       "\n",
       "    .dataframe tbody tr th {\n",
       "        vertical-align: top;\n",
       "    }\n",
       "\n",
       "    .dataframe thead th {\n",
       "        text-align: right;\n",
       "    }\n",
       "</style>\n",
       "<table border=\"1\" class=\"dataframe\">\n",
       "  <thead>\n",
       "    <tr style=\"text-align: right;\">\n",
       "      <th></th>\n",
       "      <th>count</th>\n",
       "      <th>mean</th>\n",
       "      <th>std</th>\n",
       "      <th>min</th>\n",
       "      <th>1%</th>\n",
       "      <th>5%</th>\n",
       "      <th>10%</th>\n",
       "      <th>20%</th>\n",
       "      <th>50%</th>\n",
       "      <th>80%</th>\n",
       "      <th>90%</th>\n",
       "      <th>95%</th>\n",
       "      <th>99%</th>\n",
       "      <th>max</th>\n",
       "    </tr>\n",
       "  </thead>\n",
       "  <tbody>\n",
       "    <tr>\n",
       "      <th>most ads hour</th>\n",
       "      <td>588101.0</td>\n",
       "      <td>14.469061</td>\n",
       "      <td>4.834634</td>\n",
       "      <td>0.0</td>\n",
       "      <td>1.0</td>\n",
       "      <td>8.0</td>\n",
       "      <td>9.0</td>\n",
       "      <td>11.0</td>\n",
       "      <td>14.0</td>\n",
       "      <td>19.0</td>\n",
       "      <td>21.0</td>\n",
       "      <td>22.0</td>\n",
       "      <td>23.0</td>\n",
       "      <td>23.0</td>\n",
       "    </tr>\n",
       "  </tbody>\n",
       "</table>\n",
       "</div>"
      ],
      "text/plain": [
       "                  count       mean       std  min   1%   5%  10%   20%   50%  \\\n",
       "most ads hour  588101.0  14.469061  4.834634  0.0  1.0  8.0  9.0  11.0  14.0   \n",
       "\n",
       "                80%   90%   95%   99%   max  \n",
       "most ads hour  19.0  21.0  22.0  23.0  23.0  "
      ]
     },
     "execution_count": 7,
     "metadata": {},
     "output_type": "execute_result"
    }
   ],
   "source": [
    "# Summary Stats: most ads hour\n",
    "ab.describe([0.01, 0.05, 0.10, 0.20, 0.80, 0.90, 0.95, 0.99])[[\"most ads hour\"]].T"
   ]
  },
  {
   "cell_type": "code",
   "execution_count": 65,
   "metadata": {},
   "outputs": [
    {
     "data": {
      "image/png": "[encoded data removed]",
      "text/plain": [
       "<Figure size 432x288 with 1 Axes>"
      ]
     },
     "metadata": {
      "needs_background": "light"
     },
     "output_type": "display_data"
    }
   ],
   "source": [
    "# Distribution of most ads hour\n",
    "import matplotlib.pyplot as plt\n",
    "\n",
    "ab['most ads hour'].plot.hist(bins=20, rwidth=0.9,\n",
    "                   color='steelblue')\n",
    "plt.title('Distribution of Most Ads Hour')\n",
    "plt.xlabel('Most Ads Hour')\n",
    "plt.ylabel('Count')\n",
    "plt.grid(axis='y', alpha=0.75)"
   ]
  },
  {
   "cell_type": "markdown",
   "metadata": {},
   "source": [
    "Insights:\n",
    "\n",
    "- Users are shown the ads mostly between 8 am - 5 pm"
   ]
  },
  {
   "cell_type": "code",
   "execution_count": 9,
   "metadata": {},
   "outputs": [
    {
     "data": {
      "text/plain": [
       "Friday       92608\n",
       "Monday       87073\n",
       "Sunday       85391\n",
       "Thursday     82982\n",
       "Saturday     81660\n",
       "Wednesday    80908\n",
       "Tuesday      77479\n",
       "Name: most ads day, dtype: int64"
      ]
     },
     "execution_count": 9,
     "metadata": {},
     "output_type": "execute_result"
    }
   ],
   "source": [
    "# Summary Stats: most ads day\n",
    "ab['most ads day'].value_counts()"
   ]
  },
  {
   "cell_type": "markdown",
   "metadata": {},
   "source": [
    "Insights:\n",
    "- Ads are displayed the most on Fridays."
   ]
  },
  {
   "cell_type": "code",
   "execution_count": 10,
   "metadata": {},
   "outputs": [
    {
     "data": {
      "text/html": [
       "<div>\n",
       "<style scoped>\n",
       "    .dataframe tbody tr th:only-of-type {\n",
       "        vertical-align: middle;\n",
       "    }\n",
       "\n",
       "    .dataframe tbody tr th {\n",
       "        vertical-align: top;\n",
       "    }\n",
       "\n",
       "    .dataframe thead tr th {\n",
       "        text-align: left;\n",
       "    }\n",
       "\n",
       "    .dataframe thead tr:last-of-type th {\n",
       "        text-align: right;\n",
       "    }\n",
       "</style>\n",
       "<table border=\"1\" class=\"dataframe\">\n",
       "  <thead>\n",
       "    <tr>\n",
       "      <th></th>\n",
       "      <th colspan=\"5\" halign=\"left\">total ads</th>\n",
       "    </tr>\n",
       "    <tr>\n",
       "      <th></th>\n",
       "      <th>count</th>\n",
       "      <th>median</th>\n",
       "      <th>mean</th>\n",
       "      <th>std</th>\n",
       "      <th>max</th>\n",
       "    </tr>\n",
       "    <tr>\n",
       "      <th>test group</th>\n",
       "      <th></th>\n",
       "      <th></th>\n",
       "      <th></th>\n",
       "      <th></th>\n",
       "      <th></th>\n",
       "    </tr>\n",
       "  </thead>\n",
       "  <tbody>\n",
       "    <tr>\n",
       "      <th>ad</th>\n",
       "      <td>564577</td>\n",
       "      <td>13</td>\n",
       "      <td>24.823365</td>\n",
       "      <td>43.750456</td>\n",
       "      <td>2065</td>\n",
       "    </tr>\n",
       "    <tr>\n",
       "      <th>psa</th>\n",
       "      <td>23524</td>\n",
       "      <td>12</td>\n",
       "      <td>24.761138</td>\n",
       "      <td>42.860720</td>\n",
       "      <td>907</td>\n",
       "    </tr>\n",
       "  </tbody>\n",
       "</table>\n",
       "</div>"
      ],
      "text/plain": [
       "           total ads                                   \n",
       "               count median       mean        std   max\n",
       "test group                                             \n",
       "ad            564577     13  24.823365  43.750456  2065\n",
       "psa            23524     12  24.761138  42.860720   907"
      ]
     },
     "execution_count": 10,
     "metadata": {},
     "output_type": "execute_result"
    }
   ],
   "source": [
    "# Treatment & Control Groups Summary Stats - Total Ads\n",
    "ab[['total ads','test group']].groupby(\"test group\").agg([\"count\", \"median\", \"mean\", \"std\", \"max\"])"
   ]
  },
  {
   "cell_type": "markdown",
   "metadata": {},
   "source": [
    "Insights:\n",
    "- No major difference in mean and std of total ads between treatment and control groups\n",
    "- The outlier in treatment group is more extreme than the one in the control group"
   ]
  },
  {
   "cell_type": "code",
   "execution_count": 46,
   "metadata": {},
   "outputs": [
    {
     "data": {
      "image/png": "[encoded data removed]",
      "text/plain": [
       "<Figure size 1296x360 with 4 Axes>"
      ]
     },
     "metadata": {
      "needs_background": "light"
     },
     "output_type": "display_data"
    }
   ],
   "source": [
    "import seaborn as sns\n",
    "fig, axes = plt.subplots(1, 4, figsize = (18,5))\n",
    "ab[\"total ads\"].hist(ax = axes[0], color = \"steelblue\")\n",
    "ab[(ab[\"test group\"]== \"ad\")].hist(\"total ads\", ax = axes[1], color = \"steelblue\")\n",
    "ab[(ab[\"test group\"] == \"psa\")].hist(\"total ads\", ax = axes[2], color = \"steelblue\")\n",
    "sns.boxplot(x = ab[\"test group\"], y = ab[\"total ads\"], ax = axes[3])\n",
    "\n",
    "plt.suptitle(\"Before Removing The Extreme Value\", fontsize = 20)\n",
    "axes[0].set_title(\"Distribution of Total Ads\", fontsize = 15)\n",
    "axes[1].set_title(\"Distribution of Treatment Group\", fontsize = 15)\n",
    "axes[2].set_title(\"Distribution of Control Group\", fontsize = 15)\n",
    "axes[3].set_title(\"Distribution of Two Groups\", fontsize = 15)\n",
    "\n",
    "plt.tight_layout(pad = 4);"
   ]
  },
  {
   "cell_type": "markdown",
   "metadata": {},
   "source": [
    "Insights:\n",
    "- Users in the treatment group see more ads than the control group. It may be due to the campaign operation. The treatment group saw more ads than the control group."
   ]
  },
  {
   "cell_type": "code",
   "execution_count": 11,
   "metadata": {},
   "outputs": [
    {
     "data": {
      "text/html": [
       "<div>\n",
       "<style scoped>\n",
       "    .dataframe tbody tr th:only-of-type {\n",
       "        vertical-align: middle;\n",
       "    }\n",
       "\n",
       "    .dataframe tbody tr th {\n",
       "        vertical-align: top;\n",
       "    }\n",
       "\n",
       "    .dataframe thead tr th {\n",
       "        text-align: left;\n",
       "    }\n",
       "\n",
       "    .dataframe thead tr:last-of-type th {\n",
       "        text-align: right;\n",
       "    }\n",
       "</style>\n",
       "<table border=\"1\" class=\"dataframe\">\n",
       "  <thead>\n",
       "    <tr>\n",
       "      <th></th>\n",
       "      <th colspan=\"5\" halign=\"left\">most ads hour</th>\n",
       "    </tr>\n",
       "    <tr>\n",
       "      <th></th>\n",
       "      <th>count</th>\n",
       "      <th>median</th>\n",
       "      <th>mean</th>\n",
       "      <th>std</th>\n",
       "      <th>max</th>\n",
       "    </tr>\n",
       "    <tr>\n",
       "      <th>test group</th>\n",
       "      <th></th>\n",
       "      <th></th>\n",
       "      <th></th>\n",
       "      <th></th>\n",
       "      <th></th>\n",
       "    </tr>\n",
       "  </thead>\n",
       "  <tbody>\n",
       "    <tr>\n",
       "      <th>ad</th>\n",
       "      <td>564577</td>\n",
       "      <td>14</td>\n",
       "      <td>14.475900</td>\n",
       "      <td>4.841808</td>\n",
       "      <td>23</td>\n",
       "    </tr>\n",
       "    <tr>\n",
       "      <th>psa</th>\n",
       "      <td>23524</td>\n",
       "      <td>14</td>\n",
       "      <td>14.304923</td>\n",
       "      <td>4.656239</td>\n",
       "      <td>23</td>\n",
       "    </tr>\n",
       "  </tbody>\n",
       "</table>\n",
       "</div>"
      ],
      "text/plain": [
       "           most ads hour                                \n",
       "                   count median       mean       std max\n",
       "test group                                              \n",
       "ad                564577     14  14.475900  4.841808  23\n",
       "psa                23524     14  14.304923  4.656239  23"
      ]
     },
     "execution_count": 11,
     "metadata": {},
     "output_type": "execute_result"
    }
   ],
   "source": [
    "# Treatment & Control Groups Summary Stats\n",
    "ab[['most ads hour','test group']].groupby(\"test group\").agg([\"count\", \"median\", \"mean\", \"std\", \"max\"])"
   ]
  },
  {
   "cell_type": "markdown",
   "metadata": {},
   "source": [
    "Insights:\n",
    "- No major difference in mean and std of most ads hour between treatment and control groups"
   ]
  },
  {
   "cell_type": "markdown",
   "metadata": {},
   "source": [
    "# 4) A/B Testing"
   ]
  },
  {
   "cell_type": "markdown",
   "metadata": {},
   "source": [
    "$H_0$: There is no difference in the conversion rate between two groups ($C_{treatment} = C_{control}$)\n",
    "\n",
    "$H_1$: The conversion rate of the treatment group is greater than the control group ($C_{treatment} > C_{control}$)\n",
    "\n",
    "We run a two-sample z-test to compare the difference between proportions, the conversion rate in our case, at a significance level of 5%. First, we need to check the assumptions of the test.\n",
    "\n",
    "Assumptions of a two-sample z-test:\n",
    "\n",
    "- The samples are random\n",
    "- The samples are independent\n",
    "- The samples are large enough to use a normal sampling distribution. $n \\times p \\ge 5 $ and $n \\times (1-p) \\ge 5$\n",
    "\n",
    "All the conditions are satisfied. We can go ahead and run the test."
   ]
  },
  {
   "cell_type": "code",
   "execution_count": 38,
   "metadata": {},
   "outputs": [],
   "source": [
    "# Replace true with 1 and false with 0 in the converted column\n",
    "mapping = {True: 1, False: 0}\n",
    "ab['converted'] = ab['converted'].apply(lambda x: mapping[x])"
   ]
  },
  {
   "cell_type": "code",
   "execution_count": 39,
   "metadata": {},
   "outputs": [
    {
     "data": {
      "text/html": [
       "<div>\n",
       "<style scoped>\n",
       "    .dataframe tbody tr th:only-of-type {\n",
       "        vertical-align: middle;\n",
       "    }\n",
       "\n",
       "    .dataframe tbody tr th {\n",
       "        vertical-align: top;\n",
       "    }\n",
       "\n",
       "    .dataframe thead th {\n",
       "        text-align: right;\n",
       "    }\n",
       "</style>\n",
       "<table border=\"1\" class=\"dataframe\">\n",
       "  <thead>\n",
       "    <tr style=\"text-align: right;\">\n",
       "      <th></th>\n",
       "      <th>Unnamed: 0</th>\n",
       "      <th>user id</th>\n",
       "      <th>test group</th>\n",
       "      <th>converted</th>\n",
       "      <th>total ads</th>\n",
       "      <th>most ads day</th>\n",
       "      <th>most ads hour</th>\n",
       "    </tr>\n",
       "  </thead>\n",
       "  <tbody>\n",
       "    <tr>\n",
       "      <th>0</th>\n",
       "      <td>0</td>\n",
       "      <td>1069124</td>\n",
       "      <td>ad</td>\n",
       "      <td>0</td>\n",
       "      <td>130</td>\n",
       "      <td>Monday</td>\n",
       "      <td>20</td>\n",
       "    </tr>\n",
       "    <tr>\n",
       "      <th>1</th>\n",
       "      <td>1</td>\n",
       "      <td>1119715</td>\n",
       "      <td>ad</td>\n",
       "      <td>0</td>\n",
       "      <td>93</td>\n",
       "      <td>Tuesday</td>\n",
       "      <td>22</td>\n",
       "    </tr>\n",
       "    <tr>\n",
       "      <th>2</th>\n",
       "      <td>2</td>\n",
       "      <td>1144181</td>\n",
       "      <td>ad</td>\n",
       "      <td>0</td>\n",
       "      <td>21</td>\n",
       "      <td>Tuesday</td>\n",
       "      <td>18</td>\n",
       "    </tr>\n",
       "    <tr>\n",
       "      <th>3</th>\n",
       "      <td>3</td>\n",
       "      <td>1435133</td>\n",
       "      <td>ad</td>\n",
       "      <td>0</td>\n",
       "      <td>355</td>\n",
       "      <td>Tuesday</td>\n",
       "      <td>10</td>\n",
       "    </tr>\n",
       "    <tr>\n",
       "      <th>4</th>\n",
       "      <td>4</td>\n",
       "      <td>1015700</td>\n",
       "      <td>ad</td>\n",
       "      <td>0</td>\n",
       "      <td>276</td>\n",
       "      <td>Friday</td>\n",
       "      <td>14</td>\n",
       "    </tr>\n",
       "  </tbody>\n",
       "</table>\n",
       "</div>"
      ],
      "text/plain": [
       "   Unnamed: 0  user id test group  converted  total ads most ads day  \\\n",
       "0           0  1069124         ad          0        130       Monday   \n",
       "1           1  1119715         ad          0         93      Tuesday   \n",
       "2           2  1144181         ad          0         21      Tuesday   \n",
       "3           3  1435133         ad          0        355      Tuesday   \n",
       "4           4  1015700         ad          0        276       Friday   \n",
       "\n",
       "   most ads hour  \n",
       "0             20  \n",
       "1             22  \n",
       "2             18  \n",
       "3             10  \n",
       "4             14  "
      ]
     },
     "execution_count": 39,
     "metadata": {},
     "output_type": "execute_result"
    }
   ],
   "source": [
    "ab.head()"
   ]
  },
  {
   "cell_type": "code",
   "execution_count": 41,
   "metadata": {},
   "outputs": [
    {
     "data": {
      "text/plain": [
       "test group\n",
       "ad     0.025547\n",
       "psa    0.017854\n",
       "Name: converted, dtype: float64"
      ]
     },
     "execution_count": 41,
     "metadata": {},
     "output_type": "execute_result"
    }
   ],
   "source": [
    "ab.groupby('test group')['converted'].mean()"
   ]
  },
  {
   "cell_type": "code",
   "execution_count": 54,
   "metadata": {},
   "outputs": [],
   "source": [
    "convert_control = ab[(ab[\"converted\"] == 1) & (ab[\"test group\"] == \"psa\")]['user id'].nunique()\n",
    "convert_treatment = ab[(ab[\"converted\"] == 1) & (ab[\"test group\"] == \"ad\")]['user id'].nunique()\n",
    "n_treatment = ab[ab[\"test group\"] == \"ad\"]['user id'].nunique()\n",
    "n_control = ab[ab[\"test group\"] == \"psa\"]['user id'].nunique()"
   ]
  },
  {
   "cell_type": "code",
   "execution_count": 56,
   "metadata": {},
   "outputs": [],
   "source": [
    "import statsmodels.api as sm\n",
    "#Compute test statistic and p-value\n",
    "z_score, p_value = sm.stats.proportions_ztest(np.array([convert_treatment,convert_control]),\n",
    "                                              np.array([n_treatment,n_control]), alternative = 'larger')"
   ]
  },
  {
   "cell_type": "code",
   "execution_count": 57,
   "metadata": {},
   "outputs": [
    {
     "data": {
      "text/plain": [
       "(7.3700781265454145, 8.526403580779863e-14)"
      ]
     },
     "execution_count": 57,
     "metadata": {},
     "output_type": "execute_result"
    }
   ],
   "source": [
    "z_score, p_value "
   ]
  },
  {
   "cell_type": "markdown",
   "metadata": {},
   "source": [
    "# A/B Testing Conclusion"
   ]
  },
  {
   "cell_type": "markdown",
   "metadata": {},
   "source": [
    "The p-value is 8.526403580779863e-14 < 0.05. Therefore, we reject null. The treatment group has a significant higher conversion rate than the control group. The ad compaign had a positive impact on the conversion rate."
   ]
  },
  {
   "cell_type": "markdown",
   "metadata": {},
   "source": [
    "# 5) Regression Analysis"
   ]
  },
  {
   "cell_type": "markdown",
   "metadata": {},
   "source": [
    "Now that we know that the campaign is effective, let's go back to the the second question: would users be more likely to convert if more ads are displayed to them? To answer this question, we can run a logistic regression with the independent variable as Total Ads and the dependent variable as Converted. "
   ]
  },
  {
   "cell_type": "code",
   "execution_count": 58,
   "metadata": {},
   "outputs": [
    {
     "data": {
      "text/html": [
       "<div>\n",
       "<style scoped>\n",
       "    .dataframe tbody tr th:only-of-type {\n",
       "        vertical-align: middle;\n",
       "    }\n",
       "\n",
       "    .dataframe tbody tr th {\n",
       "        vertical-align: top;\n",
       "    }\n",
       "\n",
       "    .dataframe thead th {\n",
       "        text-align: right;\n",
       "    }\n",
       "</style>\n",
       "<table border=\"1\" class=\"dataframe\">\n",
       "  <thead>\n",
       "    <tr style=\"text-align: right;\">\n",
       "      <th></th>\n",
       "      <th>Unnamed: 0</th>\n",
       "      <th>user id</th>\n",
       "      <th>test group</th>\n",
       "      <th>converted</th>\n",
       "      <th>total ads</th>\n",
       "      <th>most ads day</th>\n",
       "      <th>most ads hour</th>\n",
       "      <th>intercept</th>\n",
       "    </tr>\n",
       "  </thead>\n",
       "  <tbody>\n",
       "    <tr>\n",
       "      <th>0</th>\n",
       "      <td>0</td>\n",
       "      <td>1069124</td>\n",
       "      <td>ad</td>\n",
       "      <td>0</td>\n",
       "      <td>130</td>\n",
       "      <td>Monday</td>\n",
       "      <td>20</td>\n",
       "      <td>1</td>\n",
       "    </tr>\n",
       "    <tr>\n",
       "      <th>1</th>\n",
       "      <td>1</td>\n",
       "      <td>1119715</td>\n",
       "      <td>ad</td>\n",
       "      <td>0</td>\n",
       "      <td>93</td>\n",
       "      <td>Tuesday</td>\n",
       "      <td>22</td>\n",
       "      <td>1</td>\n",
       "    </tr>\n",
       "    <tr>\n",
       "      <th>2</th>\n",
       "      <td>2</td>\n",
       "      <td>1144181</td>\n",
       "      <td>ad</td>\n",
       "      <td>0</td>\n",
       "      <td>21</td>\n",
       "      <td>Tuesday</td>\n",
       "      <td>18</td>\n",
       "      <td>1</td>\n",
       "    </tr>\n",
       "    <tr>\n",
       "      <th>3</th>\n",
       "      <td>3</td>\n",
       "      <td>1435133</td>\n",
       "      <td>ad</td>\n",
       "      <td>0</td>\n",
       "      <td>355</td>\n",
       "      <td>Tuesday</td>\n",
       "      <td>10</td>\n",
       "      <td>1</td>\n",
       "    </tr>\n",
       "    <tr>\n",
       "      <th>4</th>\n",
       "      <td>4</td>\n",
       "      <td>1015700</td>\n",
       "      <td>ad</td>\n",
       "      <td>0</td>\n",
       "      <td>276</td>\n",
       "      <td>Friday</td>\n",
       "      <td>14</td>\n",
       "      <td>1</td>\n",
       "    </tr>\n",
       "  </tbody>\n",
       "</table>\n",
       "</div>"
      ],
      "text/plain": [
       "   Unnamed: 0  user id test group  converted  total ads most ads day  \\\n",
       "0           0  1069124         ad          0        130       Monday   \n",
       "1           1  1119715         ad          0         93      Tuesday   \n",
       "2           2  1144181         ad          0         21      Tuesday   \n",
       "3           3  1435133         ad          0        355      Tuesday   \n",
       "4           4  1015700         ad          0        276       Friday   \n",
       "\n",
       "   most ads hour  intercept  \n",
       "0             20          1  \n",
       "1             22          1  \n",
       "2             18          1  \n",
       "3             10          1  \n",
       "4             14          1  "
      ]
     },
     "execution_count": 58,
     "metadata": {},
     "output_type": "execute_result"
    }
   ],
   "source": [
    "ab[\"intercept\"] = 1\n",
    "ab.head()"
   ]
  },
  {
   "cell_type": "code",
   "execution_count": 71,
   "metadata": {},
   "outputs": [],
   "source": [
    "ab[\"treatment\"] = ab[\"test group\"].apply(lambda x: 1 if (x == \"ad\") else 0)"
   ]
  },
  {
   "cell_type": "code",
   "execution_count": 74,
   "metadata": {},
   "outputs": [
    {
     "name": "stdout",
     "output_type": "stream",
     "text": [
      "Optimization terminated successfully.\n",
      "         Current function value: 0.108986\n",
      "         Iterations 8\n"
     ]
    },
    {
     "data": {
      "text/html": [
       "<table class=\"simpletable\">\n",
       "<caption>Logit Regression Results</caption>\n",
       "<tr>\n",
       "  <th>Dep. Variable:</th>       <td>converted</td>    <th>  No. Observations:  </th>  <td>588101</td> \n",
       "</tr>\n",
       "<tr>\n",
       "  <th>Model:</th>                 <td>Logit</td>      <th>  Df Residuals:      </th>  <td>588098</td> \n",
       "</tr>\n",
       "<tr>\n",
       "  <th>Method:</th>                 <td>MLE</td>       <th>  Df Model:          </th>  <td>     2</td> \n",
       "</tr>\n",
       "<tr>\n",
       "  <th>Date:</th>            <td>Wed, 29 Jun 2022</td> <th>  Pseudo R-squ.:     </th>  <td>0.07467</td>\n",
       "</tr>\n",
       "<tr>\n",
       "  <th>Time:</th>                <td>16:32:01</td>     <th>  Log-Likelihood:    </th> <td> -64095.</td>\n",
       "</tr>\n",
       "<tr>\n",
       "  <th>converged:</th>             <td>True</td>       <th>  LL-Null:           </th> <td> -69267.</td>\n",
       "</tr>\n",
       "<tr>\n",
       "  <th>Covariance Type:</th>     <td>nonrobust</td>    <th>  LLR p-value:       </th>  <td> 0.000</td> \n",
       "</tr>\n",
       "</table>\n",
       "<table class=\"simpletable\">\n",
       "<tr>\n",
       "      <td></td>         <th>coef</th>     <th>std err</th>      <th>z</th>      <th>P>|z|</th>  <th>[0.025</th>    <th>0.975]</th>  \n",
       "</tr>\n",
       "<tr>\n",
       "  <th>intercept</th> <td>   -4.4307</td> <td>    0.051</td> <td>  -86.695</td> <td> 0.000</td> <td>   -4.531</td> <td>   -4.330</td>\n",
       "</tr>\n",
       "<tr>\n",
       "  <th>total ads</th> <td>    0.0101</td> <td> 9.86e-05</td> <td>  102.886</td> <td> 0.000</td> <td>    0.010</td> <td>    0.010</td>\n",
       "</tr>\n",
       "<tr>\n",
       "  <th>treatment</th> <td>    0.3894</td> <td>    0.051</td> <td>    7.562</td> <td> 0.000</td> <td>    0.288</td> <td>    0.490</td>\n",
       "</tr>\n",
       "</table>"
      ],
      "text/plain": [
       "<class 'statsmodels.iolib.summary.Summary'>\n",
       "\"\"\"\n",
       "                           Logit Regression Results                           \n",
       "==============================================================================\n",
       "Dep. Variable:              converted   No. Observations:               588101\n",
       "Model:                          Logit   Df Residuals:                   588098\n",
       "Method:                           MLE   Df Model:                            2\n",
       "Date:                Wed, 29 Jun 2022   Pseudo R-squ.:                 0.07467\n",
       "Time:                        16:32:01   Log-Likelihood:                -64095.\n",
       "converged:                       True   LL-Null:                       -69267.\n",
       "Covariance Type:            nonrobust   LLR p-value:                     0.000\n",
       "==============================================================================\n",
       "                 coef    std err          z      P>|z|      [0.025      0.975]\n",
       "------------------------------------------------------------------------------\n",
       "intercept     -4.4307      0.051    -86.695      0.000      -4.531      -4.330\n",
       "total ads      0.0101   9.86e-05    102.886      0.000       0.010       0.010\n",
       "treatment      0.3894      0.051      7.562      0.000       0.288       0.490\n",
       "==============================================================================\n",
       "\"\"\""
      ]
     },
     "execution_count": 74,
     "metadata": {},
     "output_type": "execute_result"
    }
   ],
   "source": [
    "model = sm.Logit(ab['converted'], ab[['intercept','total ads',\"treatment\"]])\n",
    "result = model.fit()\n",
    "result.summary()"
   ]
  },
  {
   "cell_type": "markdown",
   "metadata": {},
   "source": [
    "Insights:\n",
    "\n",
    "- The coefficient of total ads is significant. The number of ads a user sees would significantly affect the conversion.\n",
    "- The coefficient of total ads is 0.0101. It means the odds of purchasing will increase by exp(0.0101) - 1 = 1% for a one-unit increase in total ads displayed."
   ]
  },
  {
   "cell_type": "markdown",
   "metadata": {},
   "source": [
    "# 6) Business Recommendations"
   ]
  },
  {
   "cell_type": "markdown",
   "metadata": {},
   "source": [
    "We can make the following recommendations based on our analysis:\n",
    "\n",
    "1) Our ad compaign was successful. We can conduct more similar compaigns in the future to boost our sales.\n",
    "\n",
    "2) The more times the user sees an ad, the more likely he/she will purchase. To determine how many times we should retarget a user to increase the conversion rate, we will need to collect the historical compaign and purchase as well as timestamp data. "
   ]
  }
 ],
 "metadata": {
  "kernelspec": {
   "display_name": "Python 3",
   "language": "python",
   "name": "python3"
  },
  "language_info": {
   "codemirror_mode": {
    "name": "ipython",
    "version": 3
   },
   "file_extension": ".py",
   "mimetype": "text/x-python",
   "name": "python",
   "nbconvert_exporter": "python",
   "pygments_lexer": "ipython3",
   "version": "3.8.3"
  }
 },
 "nbformat": 4,
 "nbformat_minor": 4
}
